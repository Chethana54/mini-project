{
  "nbformat": 4,
  "nbformat_minor": 0,
  "metadata": {
    "colab": {
      "name": "mini project.ipynb",
      "provenance": [],
      "collapsed_sections": [],
      "authorship_tag": "ABX9TyPtELD6TUyA+c4pywhy+aJt",
      "include_colab_link": true
    },
    "kernelspec": {
      "name": "python3",
      "display_name": "Python 3"
    },
    "language_info": {
      "name": "python"
    }
  },
  "cells": [
    {
      "cell_type": "markdown",
      "metadata": {
        "id": "view-in-github",
        "colab_type": "text"
      },
      "source": [
        "<a href=\"https://colab.research.google.com/github/Chethana54/mini-project/blob/main/mini_project.ipynb\" target=\"_parent\"><img src=\"https://colab.research.google.com/assets/colab-badge.svg\" alt=\"Open In Colab\"/></a>"
      ]
    },
    {
      "cell_type": "code",
      "metadata": {
        "colab": {
          "base_uri": "https://localhost:8080/"
        },
        "id": "zwN5LoJSDhAJ",
        "outputId": "38dffaeb-e778-4252-8382-20ff3124e638"
      },
      "source": [
        "!pip install bing-image-downloader"
      ],
      "execution_count": null,
      "outputs": [
        {
          "output_type": "stream",
          "text": [
            "Collecting bing-image-downloader\n",
            "  Downloading https://files.pythonhosted.org/packages/0d/bf/537a61030b84ae4cd5022d5c7b014fd9bc3ce7c02358919153a6658a61d3/bing_image_downloader-1.0.4-py3-none-any.whl\n",
            "Installing collected packages: bing-image-downloader\n",
            "Successfully installed bing-image-downloader-1.0.4\n"
          ],
          "name": "stdout"
        }
      ]
    },
    {
      "cell_type": "code",
      "metadata": {
        "id": "dnDkhLVPFCkD"
      },
      "source": [
        "!mkdir images"
      ],
      "execution_count": null,
      "outputs": []
    },
    {
      "cell_type": "code",
      "metadata": {
        "colab": {
          "base_uri": "https://localhost:8080/"
        },
        "id": "8-ani8ZvFSL_",
        "outputId": "d7e0c5b0-8a33-467f-a872-a6965bdce548"
      },
      "source": [
        "from bing_image_downloader import downloader\n",
        "downloader.download(\"Lotus Water Lily\",limit=50,output_dir='images',adult_filter_off= True)"
      ],
      "execution_count": null,
      "outputs": [
        {
          "output_type": "stream",
          "text": [
            "\n",
            "\n",
            "[!!]Indexing page: 1\n",
            "\n",
            "[%] Indexed 22 Images on Page 1.\n",
            "\n",
            "===============================================\n",
            "\n",
            "[%] Downloading Image #1 from https://media.istockphoto.com/photos/lotus-water-lily-picture-id477723144?k=6&amp;m=477723144&amp;s=170667a&amp;w=0&amp;h=wbChwNwRITAdq55lXffiAjB2jiaW8hDg9GWmN9w7MUI=\n",
            "[%] File Downloaded !\n",
            "\n",
            "[%] Downloading Image #2 from https://www.wallpapers13.com/wp-content/uploads/2019/07/Flower-lotus-Water-Lily-aquatic-plant-blossom-wildflower-macro-photography.jpg\n",
            "[%] File Downloaded !\n",
            "\n",
            "[%] Downloading Image #3 from https://www.fanartreview.com/farusr/321120/w-321120-577447.JPG\n",
            "[%] File Downloaded !\n",
            "\n",
            "[%] Downloading Image #4 from https://cdn.eyeem.com/thumb/528c3be65c51f022119619dcb4a2982497a06856-1570691434110/640/480\n",
            "[%] File Downloaded !\n",
            "\n",
            "[%] Downloading Image #5 from https://i.pinimg.com/originals/99/5d/8b/995d8b0dad2fc0bdd2c6b61b1d5769c2.jpg\n",
            "[%] File Downloaded !\n",
            "\n",
            "[%] Downloading Image #6 from https://thumbs.dreamstime.com/b/water-lily-lotus-24289195.jpg\n",
            "[%] File Downloaded !\n",
            "\n",
            "[%] Downloading Image #7 from https://www.nybg.org/content/uploads/2020/07/MCO-5D4_7712-1.1.jpg\n",
            "[%] File Downloaded !\n",
            "\n",
            "[%] Downloading Image #8 from https://www.wallpapers13.com/wp-content/uploads/2016/04/Pink-lotus-flower-HD-Wallpapers-for-mobile-phones-and-laptops-3840x2400.jpg\n",
            "[%] File Downloaded !\n",
            "\n",
            "[%] Downloading Image #9 from https://www.wallpapers13.com/wp-content/uploads/2018/09/Neon-Lily-Beautiful-Flowers-Pictures-Desktop-HD-Wallpapers-for-mobile-phones-and-computer-5816x3272.jpg\n",
            "[%] File Downloaded !\n",
            "\n",
            "[%] Downloading Image #10 from https://i.ytimg.com/vi/77iSHjx9d9I/maxresdefault.jpg\n",
            "[%] File Downloaded !\n",
            "\n",
            "[%] Downloading Image #11 from https://thumbs.dreamstime.com/b/water-lilly-lotus-macro-purple-lily-62369169.jpg\n",
            "[%] File Downloaded !\n",
            "\n",
            "[%] Downloading Image #12 from https://www.wallpapers13.com/wp-content/uploads/2015/12/Black-background-flowers-lotus-flower-783-2560X1600-1920x1080.jpg\n",
            "[%] File Downloaded !\n",
            "\n",
            "[%] Downloading Image #13 from http://1.bp.blogspot.com/__4f3R__RmXg/TJZEFYe_luI/AAAAAAAABWs/iETfNVMCaZw/s400/082B+lotus.jpg\n",
            "[%] File Downloaded !\n",
            "\n",
            "[%] Downloading Image #14 from https://landscapeplants.oregonstate.edu/sites/plantid7/files/plantimage/mastw345_0.jpg\n",
            "[%] File Downloaded !\n",
            "\n",
            "[%] Downloading Image #15 from https://s-media-cache-ak0.pinimg.com/236x/3d/e3/32/3de332db75042281aaef27f4f883b7a0.jpg\n",
            "[%] File Downloaded !\n",
            "\n",
            "[%] Downloading Image #16 from http://www.wallpapers13.com/wp-content/uploads/2015/12/Pink-lotus-flowers-HD-wallpaper-8576.jpg\n",
            "[%] File Downloaded !\n",
            "\n",
            "[%] Downloading Image #17 from https://www.wallpapers13.com/wp-content/uploads/2015/12/Hinh-nen-hoa-sung-hd-tuyet-dep-water-lily-wallpaper-11-1920x1200.jpg\n",
            "[%] File Downloaded !\n",
            "\n",
            "[%] Downloading Image #18 from https://img.etsystatic.com/il/7c396d/406868574/il_75x75.406868574_n8pf.jpg?version=0\n",
            "[%] File Downloaded !\n",
            "\n",
            "[%] Downloading Image #19 from https://img1.etsystatic.com/000/0/5712291/il_570xN.134388331.jpg\n",
            "[Error]Invalid image, not saving https://img1.etsystatic.com/000/0/5712291/il_570xN.134388331.jpg\n",
            "\n",
            "[!] Issue getting: https://img1.etsystatic.com/000/0/5712291/il_570xN.134388331.jpg\n",
            "[!] Error:: No active exception to reraise\n",
            "[%] Downloading Image #19 from https://www.nelumbogarden.co.uk/data/upload/Shop/images/hoya-latifolia-matthijs-hazeleger-rare-exotic-plants-nelumbogarden-special-plants-1-0.jpg\n",
            "[%] File Downloaded !\n",
            "\n",
            "[%] Downloading Image #20 from http://www.wallpapers13.com/wp-content/uploads/2015/12/Pink-lotus-flowers-HD-wallpaper-8576-1366x768.jpg\n",
            "[%] File Downloaded !\n",
            "\n",
            "[%] Downloading Image #21 from https://www.wallpapers13.com/wp-content/uploads/2015/12/Most-beautiful-nature-flower-pics-HD-wallpaper-1024x768.jpg\n",
            "[%] File Downloaded !\n",
            "\n",
            "\n",
            "\n",
            "[!!]Indexing page: 2\n",
            "\n",
            "[%] Indexed 22 Images on Page 2.\n",
            "\n",
            "===============================================\n",
            "\n",
            "[%] Downloading Image #22 from https://media.istockphoto.com/photos/lotus-water-lily-picture-id477723144?k=6&amp;m=477723144&amp;s=170667a&amp;w=0&amp;h=wbChwNwRITAdq55lXffiAjB2jiaW8hDg9GWmN9w7MUI=\n",
            "[%] File Downloaded !\n",
            "\n",
            "[%] Downloading Image #23 from https://www.wallpapers13.com/wp-content/uploads/2019/07/Flower-lotus-Water-Lily-aquatic-plant-blossom-wildflower-macro-photography.jpg\n",
            "[%] File Downloaded !\n",
            "\n",
            "[%] Downloading Image #24 from https://www.fanartreview.com/farusr/321120/w-321120-577447.JPG\n",
            "[%] File Downloaded !\n",
            "\n",
            "[%] Downloading Image #25 from https://cdn.eyeem.com/thumb/528c3be65c51f022119619dcb4a2982497a06856-1570691434110/640/480\n",
            "[%] File Downloaded !\n",
            "\n",
            "[%] Downloading Image #26 from https://i.pinimg.com/originals/99/5d/8b/995d8b0dad2fc0bdd2c6b61b1d5769c2.jpg\n",
            "[%] File Downloaded !\n",
            "\n",
            "[%] Downloading Image #27 from https://thumbs.dreamstime.com/b/water-lily-lotus-24289195.jpg\n",
            "[%] File Downloaded !\n",
            "\n",
            "[%] Downloading Image #28 from https://www.nybg.org/content/uploads/2020/07/MCO-5D4_7712-1.1.jpg\n",
            "[%] File Downloaded !\n",
            "\n",
            "[%] Downloading Image #29 from https://www.wallpapers13.com/wp-content/uploads/2016/04/Pink-lotus-flower-HD-Wallpapers-for-mobile-phones-and-laptops-3840x2400.jpg\n",
            "[%] File Downloaded !\n",
            "\n",
            "[%] Downloading Image #30 from https://www.wallpapers13.com/wp-content/uploads/2018/09/Neon-Lily-Beautiful-Flowers-Pictures-Desktop-HD-Wallpapers-for-mobile-phones-and-computer-5816x3272.jpg\n",
            "[%] File Downloaded !\n",
            "\n",
            "[%] Downloading Image #31 from https://i.ytimg.com/vi/77iSHjx9d9I/maxresdefault.jpg\n",
            "[%] File Downloaded !\n",
            "\n",
            "[%] Downloading Image #32 from https://thumbs.dreamstime.com/b/water-lilly-lotus-macro-purple-lily-62369169.jpg\n",
            "[%] File Downloaded !\n",
            "\n",
            "[%] Downloading Image #33 from https://www.wallpapers13.com/wp-content/uploads/2015/12/Black-background-flowers-lotus-flower-783-2560X1600-1920x1080.jpg\n",
            "[%] File Downloaded !\n",
            "\n",
            "[%] Downloading Image #34 from http://1.bp.blogspot.com/__4f3R__RmXg/TJZEFYe_luI/AAAAAAAABWs/iETfNVMCaZw/s400/082B+lotus.jpg\n",
            "[%] File Downloaded !\n",
            "\n",
            "[%] Downloading Image #35 from https://landscapeplants.oregonstate.edu/sites/plantid7/files/plantimage/mastw345_0.jpg\n",
            "[%] File Downloaded !\n",
            "\n",
            "[%] Downloading Image #36 from https://s-media-cache-ak0.pinimg.com/236x/3d/e3/32/3de332db75042281aaef27f4f883b7a0.jpg\n",
            "[%] File Downloaded !\n",
            "\n",
            "[%] Downloading Image #37 from http://www.wallpapers13.com/wp-content/uploads/2015/12/Pink-lotus-flowers-HD-wallpaper-8576.jpg\n",
            "[%] File Downloaded !\n",
            "\n",
            "[%] Downloading Image #38 from https://www.wallpapers13.com/wp-content/uploads/2015/12/Hinh-nen-hoa-sung-hd-tuyet-dep-water-lily-wallpaper-11-1920x1200.jpg\n",
            "[%] File Downloaded !\n",
            "\n",
            "[%] Downloading Image #39 from https://img.etsystatic.com/il/7c396d/406868574/il_75x75.406868574_n8pf.jpg?version=0\n",
            "[%] File Downloaded !\n",
            "\n",
            "[%] Downloading Image #40 from https://img1.etsystatic.com/000/0/5712291/il_570xN.134388331.jpg\n",
            "[%] File Downloaded !\n",
            "\n",
            "[%] Downloading Image #41 from https://www.nelumbogarden.co.uk/data/upload/Shop/images/hoya-latifolia-matthijs-hazeleger-rare-exotic-plants-nelumbogarden-special-plants-1-0.jpg\n",
            "[%] File Downloaded !\n",
            "\n",
            "[%] Downloading Image #42 from http://www.wallpapers13.com/wp-content/uploads/2015/12/Pink-lotus-flowers-HD-wallpaper-8576-1366x768.jpg\n",
            "[%] File Downloaded !\n",
            "\n",
            "[%] Downloading Image #43 from https://www.wallpapers13.com/wp-content/uploads/2015/12/Most-beautiful-nature-flower-pics-HD-wallpaper-1024x768.jpg\n",
            "[%] File Downloaded !\n",
            "\n",
            "\n",
            "\n",
            "[!!]Indexing page: 3\n",
            "\n",
            "[%] Indexed 21 Images on Page 3.\n",
            "\n",
            "===============================================\n",
            "\n",
            "[%] Downloading Image #44 from https://www.wallpapers13.com/wp-content/uploads/2019/07/Flower-lotus-Water-Lily-aquatic-plant-blossom-wildflower-macro-photography.jpg\n",
            "[%] File Downloaded !\n",
            "\n",
            "[%] Downloading Image #45 from https://www.fanartreview.com/farusr/321120/w-321120-577447.JPG\n",
            "[%] File Downloaded !\n",
            "\n",
            "[%] Downloading Image #46 from https://cdn.eyeem.com/thumb/528c3be65c51f022119619dcb4a2982497a06856-1570691434110/640/480\n",
            "[%] File Downloaded !\n",
            "\n",
            "[%] Downloading Image #47 from https://i.pinimg.com/originals/99/5d/8b/995d8b0dad2fc0bdd2c6b61b1d5769c2.jpg\n",
            "[%] File Downloaded !\n",
            "\n",
            "[%] Downloading Image #48 from https://thumbs.dreamstime.com/b/water-lily-lotus-24289195.jpg\n",
            "[%] File Downloaded !\n",
            "\n",
            "[%] Downloading Image #49 from https://www.nybg.org/content/uploads/2020/07/MCO-5D4_7712-1.1.jpg\n",
            "[%] File Downloaded !\n",
            "\n",
            "[%] Downloading Image #50 from https://www.wallpapers13.com/wp-content/uploads/2016/04/Pink-lotus-flower-HD-Wallpapers-for-mobile-phones-and-laptops-3840x2400.jpg\n",
            "[%] File Downloaded !\n",
            "\n",
            "\n",
            "\n",
            "[%] Done. Downloaded 50 images.\n",
            "\n",
            "===============================================\n",
            "\n"
          ],
          "name": "stdout"
        }
      ]
    },
    {
      "cell_type": "code",
      "metadata": {
        "colab": {
          "base_uri": "https://localhost:8080/"
        },
        "id": "N4cAonZGHI1M",
        "outputId": "e165859d-5d06-4bf3-f553-8c3cba8182b4"
      },
      "source": [
        "from bing_image_downloader import downloader\n",
        "downloader.download(\"Tree\",limit=50,output_dir='images',adult_filter_off= True)"
      ],
      "execution_count": null,
      "outputs": [
        {
          "output_type": "stream",
          "text": [
            "\n",
            "\n",
            "[!!]Indexing page: 1\n",
            "\n",
            "[%] Indexed 12 Images on Page 1.\n",
            "\n",
            "===============================================\n",
            "\n",
            "[%] Downloading Image #1 from https://www.singtree.com/sites/singtree.com/files/styles/colorbox_large/public/shopify_images/tsukasaSilhouette23.jpg?itok=0GoxDyTM\n",
            "[%] File Downloaded !\n",
            "\n",
            "[%] Downloading Image #2 from https://beautyharmonylife.com/wp-content/uploads/2013/11/White-Christmas-Tree-Ornaments.jpg\n",
            "[%] File Downloaded !\n",
            "\n",
            "[%] Downloading Image #3 from https://hative.com/wp-content/uploads/2014/04/cardboard-crafts/10-cardboard-christmas-tree.jpg\n",
            "[%] File Downloaded !\n",
            "\n",
            "[%] Downloading Image #4 from https://www.plantant.com/supplierimages/image.php/pinus-elliottii-densa-densa-pine-south-florida-slash-pine-1000722824-1471999566.jpg?width=1000&amp;height=1000&amp;image=/public/supplierimages/plants/1000722824-1471999566.jpg\n",
            "[!] Issue getting: https://www.plantant.com/supplierimages/image.php/pinus-elliottii-densa-densa-pine-south-florida-slash-pine-1000722824-1471999566.jpg?width=1000&amp;height=1000&amp;image=/public/supplierimages/plants/1000722824-1471999566.jpg\n",
            "[!] Error:: HTTP Error 400: Bad Request\n",
            "[%] Downloading Image #4 from http://cdn.architecturendesign.net/wp-content/uploads/2015/12/AD-Ideas-To-Decorate-Your-Home-With-Recycled-Wood-This-07.jpg\n",
            "[%] File Downloaded !\n",
            "\n",
            "[%] Downloading Image #5 from https://myamazingthings.com/wp-content/uploads/2017/01/room8-1.jpg\n",
            "[%] File Downloaded !\n",
            "\n",
            "[%] Downloading Image #6 from http://www.availableideas.com/wp-content/uploads/2015/11/Beautiful-Christmas-Centerpieces-29.jpg\n",
            "[%] File Downloaded !\n",
            "\n",
            "[%] Downloading Image #7 from https://flashbak.com/wp-content/uploads/2016/12/Christmas-tree-mom-31.jpg\n",
            "[%] File Downloaded !\n",
            "\n",
            "[%] Downloading Image #8 from http://www.digsdigs.com/photos/charming-silver-and-blue-christmas-decor-ideas-20.jpg\n",
            "[%] File Downloaded !\n",
            "\n",
            "[%] Downloading Image #9 from https://cdn.goodshomedesign.com/wp-content/uploads/2018/05/wine-bottle-crafts-5-559x1024.jpg\n",
            "[%] File Downloaded !\n",
            "\n",
            "[%] Downloading Image #10 from http://www.minnesotawildflowers.info/udata/r9ndp23q/pd3/rhamnus-cathartica-7938749-10.jpg\n",
            "[%] File Downloaded !\n",
            "\n",
            "[%] Downloading Image #11 from https://hative.com/wp-content/uploads/2014/04/pipe-cleaner-crafts/27-pumpkins-pip-cleaner-crafts.jpg\n",
            "[%] File Downloaded !\n",
            "\n",
            "\n",
            "\n",
            "[!!]Indexing page: 2\n",
            "\n",
            "[%] Indexed 12 Images on Page 2.\n",
            "\n",
            "===============================================\n",
            "\n",
            "[%] Downloading Image #12 from https://www.singtree.com/sites/singtree.com/files/styles/colorbox_large/public/shopify_images/tsukasaSilhouette23.jpg?itok=0GoxDyTM\n",
            "[%] File Downloaded !\n",
            "\n",
            "[%] Downloading Image #13 from https://beautyharmonylife.com/wp-content/uploads/2013/11/White-Christmas-Tree-Ornaments.jpg\n",
            "[%] File Downloaded !\n",
            "\n",
            "[%] Downloading Image #14 from https://hative.com/wp-content/uploads/2014/04/cardboard-crafts/10-cardboard-christmas-tree.jpg\n",
            "[%] File Downloaded !\n",
            "\n",
            "[%] Downloading Image #15 from https://www.plantant.com/supplierimages/image.php/pinus-elliottii-densa-densa-pine-south-florida-slash-pine-1000722824-1471999566.jpg?width=1000&amp;height=1000&amp;image=/public/supplierimages/plants/1000722824-1471999566.jpg\n",
            "[!] Issue getting: https://www.plantant.com/supplierimages/image.php/pinus-elliottii-densa-densa-pine-south-florida-slash-pine-1000722824-1471999566.jpg?width=1000&amp;height=1000&amp;image=/public/supplierimages/plants/1000722824-1471999566.jpg\n",
            "[!] Error:: HTTP Error 400: Bad Request\n",
            "[%] Downloading Image #15 from http://cdn.architecturendesign.net/wp-content/uploads/2015/12/AD-Ideas-To-Decorate-Your-Home-With-Recycled-Wood-This-07.jpg\n",
            "[%] File Downloaded !\n",
            "\n",
            "[%] Downloading Image #16 from https://myamazingthings.com/wp-content/uploads/2017/01/room8-1.jpg\n",
            "[%] File Downloaded !\n",
            "\n",
            "[%] Downloading Image #17 from http://www.availableideas.com/wp-content/uploads/2015/11/Beautiful-Christmas-Centerpieces-29.jpg\n",
            "[%] File Downloaded !\n",
            "\n",
            "[%] Downloading Image #18 from https://flashbak.com/wp-content/uploads/2016/12/Christmas-tree-mom-31.jpg\n",
            "[%] File Downloaded !\n",
            "\n",
            "[%] Downloading Image #19 from http://www.digsdigs.com/photos/charming-silver-and-blue-christmas-decor-ideas-20.jpg\n",
            "[%] File Downloaded !\n",
            "\n",
            "[%] Downloading Image #20 from https://cdn.goodshomedesign.com/wp-content/uploads/2018/05/wine-bottle-crafts-5-559x1024.jpg\n",
            "[%] File Downloaded !\n",
            "\n",
            "[%] Downloading Image #21 from http://www.minnesotawildflowers.info/udata/r9ndp23q/pd3/rhamnus-cathartica-7938749-10.jpg\n",
            "[%] File Downloaded !\n",
            "\n",
            "[%] Downloading Image #22 from https://hative.com/wp-content/uploads/2014/04/pipe-cleaner-crafts/27-pumpkins-pip-cleaner-crafts.jpg\n",
            "[%] File Downloaded !\n",
            "\n",
            "\n",
            "\n",
            "[!!]Indexing page: 3\n",
            "\n",
            "[%] Indexed 9 Images on Page 3.\n",
            "\n",
            "===============================================\n",
            "\n",
            "[%] Downloading Image #23 from https://www.plantant.com/supplierimages/image.php/codiaeum-variegatum-fantasy-croton-1000326357-1377719151.jpg?width=1000&amp;height=1000&amp;image=/public/supplierimages/plants/1000326357-1377719151.jpg\n",
            "[!] Issue getting: https://www.plantant.com/supplierimages/image.php/codiaeum-variegatum-fantasy-croton-1000326357-1377719151.jpg?width=1000&amp;height=1000&amp;image=/public/supplierimages/plants/1000326357-1377719151.jpg\n",
            "[!] Error:: HTTP Error 400: Bad Request\n",
            "[%] Downloading Image #23 from https://www.lumberjocks.com/assets/pictures/projects/430349.jpg\n",
            "[%] File Downloaded !\n",
            "\n",
            "[%] Downloading Image #24 from https://www.magment.com/wp-content/uploads/2016/10/Blue-and-Purple-Christmas-Tree.jpg\n",
            "[%] File Downloaded !\n",
            "\n",
            "[%] Downloading Image #25 from http://www.thetreecenter.com/wp-content/uploads/royal-red-butterfly-bush-1.jpg\n",
            "[%] File Downloaded !\n",
            "\n",
            "[%] Downloading Image #26 from http://img10.3lian.com/sc6/show02/58/67/15.jpg\n",
            "[!] Issue getting: http://img10.3lian.com/sc6/show02/58/67/15.jpg\n",
            "[!] Error:: <urlopen error [Errno -5] No address associated with hostname>\n",
            "[%] Downloading Image #26 from http://cdn.architecturendesign.net/wp-content/uploads/2015/12/AD-Ideas-To-Decorate-Your-Home-With-Recycled-Wood-This-28.jpg\n",
            "[%] File Downloaded !\n",
            "\n",
            "[%] Downloading Image #27 from https://www.thisistattoo.com/wp-content/uploads/2014/07/Sleeve-tattoos018.jpg\n",
            "[!] Issue getting: https://www.thisistattoo.com/wp-content/uploads/2014/07/Sleeve-tattoos018.jpg\n",
            "[!] Error:: <urlopen error [SSL: CERTIFICATE_VERIFY_FAILED] certificate verify failed: certificate has expired (_ssl.c:1091)>\n",
            "[%] Downloading Image #27 from https://www.hdwallpapers.in/download/cold_moon_house-1280x800.jpg\n",
            "[%] File Downloaded !\n",
            "\n",
            "[%] Downloading Image #28 from http://www.digsdigs.com/photos/fun-and-creative-sleigh-decor-ideas-for-christmas-14-554x832.jpg\n",
            "[%] File Downloaded !\n",
            "\n",
            "\n",
            "\n",
            "[!!]Indexing page: 4\n",
            "\n",
            "[%] Indexed 8 Images on Page 4.\n",
            "\n",
            "===============================================\n",
            "\n",
            "[%] Downloading Image #29 from https://www.lumberjocks.com/assets/pictures/projects/430349.jpg\n",
            "[%] File Downloaded !\n",
            "\n",
            "[%] Downloading Image #30 from https://www.thisistattoo.com/wp-content/uploads/2014/07/Sleeve-tattoos018.jpg\n",
            "[!] Issue getting: https://www.thisistattoo.com/wp-content/uploads/2014/07/Sleeve-tattoos018.jpg\n",
            "[!] Error:: <urlopen error [SSL: CERTIFICATE_VERIFY_FAILED] certificate verify failed: certificate has expired (_ssl.c:1091)>\n",
            "[%] Downloading Image #30 from http://www.thetreecenter.com/wp-content/uploads/royal-red-butterfly-bush-1.jpg\n",
            "[%] File Downloaded !\n",
            "\n",
            "[%] Downloading Image #31 from https://www.magment.com/wp-content/uploads/2016/10/Blue-and-Purple-Christmas-Tree.jpg\n",
            "[%] File Downloaded !\n",
            "\n",
            "[%] Downloading Image #32 from http://cdn.architecturendesign.net/wp-content/uploads/2015/12/AD-Ideas-To-Decorate-Your-Home-With-Recycled-Wood-This-28.jpg\n",
            "[%] File Downloaded !\n",
            "\n",
            "[%] Downloading Image #33 from https://www.hdwallpapers.in/download/cold_moon_house-1280x800.jpg\n",
            "[%] File Downloaded !\n",
            "\n",
            "[%] Downloading Image #34 from http://img10.3lian.com/sc6/show02/58/67/15.jpg\n",
            "[!] Issue getting: http://img10.3lian.com/sc6/show02/58/67/15.jpg\n",
            "[!] Error:: <urlopen error [Errno -5] No address associated with hostname>\n",
            "[%] Downloading Image #34 from http://www.digsdigs.com/photos/fun-and-creative-sleigh-decor-ideas-for-christmas-14-554x832.jpg\n",
            "[%] File Downloaded !\n",
            "\n",
            "\n",
            "\n",
            "[!!]Indexing page: 5\n",
            "\n",
            "[%] Indexed 7 Images on Page 5.\n",
            "\n",
            "===============================================\n",
            "\n",
            "[%] Downloading Image #35 from https://wallpapershome.com/images/wallpapers/park-3840x2160-5k-4k-wallpaper-autumn-beautiful-leaves-trees-12401.jpg\n",
            "[%] File Downloaded !\n",
            "\n",
            "[%] Downloading Image #36 from http://www.robbeckinsale.co.uk/images/portfolio/details/carvings_4/img_1856_20140814_1748628005.jpg\n",
            "[%] File Downloaded !\n",
            "\n",
            "[%] Downloading Image #37 from http://cdn.architecturendesign.net/wp-content/uploads/2015/05/AD-Outdoor-Reclaimed-Wood-Projects-13.jpg\n",
            "[%] File Downloaded !\n",
            "\n",
            "[%] Downloading Image #38 from https://cdn.sortra.com/wp-content/uploads/2014/12/tabletop-christmas-tree17.jpg\n",
            "[%] File Downloaded !\n",
            "\n",
            "[%] Downloading Image #39 from https://hative.com/wp-content/uploads/2014/10/gift-wrapping-ideas/7-cool-gift-wrapping-ideas.jpg\n",
            "[%] File Downloaded !\n",
            "\n",
            "[%] Downloading Image #40 from http://cdn.goodshomedesign.com/wp-content/uploads/2015/04/hobbit-fireplace-9.jpg\n",
            "[%] File Downloaded !\n",
            "\n",
            "[%] Downloading Image #41 from https://hative.com/wp-content/uploads/2014/10/pumpkin-carving-ideas/30-wine-cooler-pumpkin.jpg\n",
            "[%] File Downloaded !\n",
            "\n",
            "\n",
            "\n",
            "[!!]Indexing page: 6\n",
            "\n",
            "[%] Indexed 8 Images on Page 6.\n",
            "\n",
            "===============================================\n",
            "\n",
            "[%] Downloading Image #42 from http://www.minnesotawildflowers.info/udata/r9ndp23q/trees/euonymus-alatus-burning-bush_0624_091637.jpg\n",
            "[%] File Downloaded !\n",
            "\n",
            "[%] Downloading Image #43 from https://new3.co/wp-content/uploads/2018/01/895-4.jpg\n",
            "[%] File Downloaded !\n",
            "\n",
            "[%] Downloading Image #44 from http://myamazingthings.com/wp-content/uploads/2017/06/branch-decor-7.jpg\n",
            "[%] File Downloaded !\n",
            "\n",
            "[%] Downloading Image #45 from https://www.hdwallpapers.in/download/brown_squirrel_is_standing_on_tree_trunk_eating_nuts_hd_animals-1280x720.jpg\n",
            "[%] File Downloaded !\n",
            "\n",
            "[%] Downloading Image #46 from https://www.digsdigs.com/photos/refined-gold-and-white-christmas-decor-ideas-35.jpg\n",
            "[%] File Downloaded !\n",
            "\n",
            "[%] Downloading Image #47 from https://www.topdreamer.com/wp-content/uploads/2013/12/awesome-classic-traditional-christmas-tree-decorations-with-red-and-gold-ball-ornaments-720x1080-634x951.jpg\n",
            "[%] File Downloaded !\n",
            "\n",
            "[%] Downloading Image #48 from https://9jaflaver.com/wp-content/uploads/2017/12/Man-Hangs-Himself-On-A-Tree-At-Lagos-Airport-Way-This-Morning4.jpg\n",
            "[%] File Downloaded !\n",
            "\n",
            "[%] Downloading Image #49 from https://www.digsdigs.com/photos/refined-gold-and-white-christmas-decor-ideas-25.jpg\n",
            "[%] File Downloaded !\n",
            "\n",
            "\n",
            "\n",
            "[!!]Indexing page: 7\n",
            "\n",
            "[%] Indexed 7 Images on Page 7.\n",
            "\n",
            "===============================================\n",
            "\n",
            "[%] Downloading Image #50 from http://myamazingthings.com/wp-content/uploads/2017/06/branch-decor-7.jpg\n",
            "[%] File Downloaded !\n",
            "\n",
            "\n",
            "\n",
            "[%] Done. Downloaded 50 images.\n",
            "\n",
            "===============================================\n",
            "\n"
          ],
          "name": "stdout"
        }
      ]
    },
    {
      "cell_type": "code",
      "metadata": {
        "id": "mmegX1d_JQ1p"
      },
      "source": [
        "#pre processing\n",
        "import os\n",
        "import matplotlib.pyplot as plt\n",
        "import numpy as np\n",
        "from skimage.io import imread\n",
        "from skimage.transform import resize\n",
        "\n",
        "target = []\n",
        "images = []\n",
        "flat_data = []\n",
        "\n",
        "DATADIR = '/content/images'\n",
        "CATEGORIES = ['Lotus Water Lily','Tree']\n",
        "for category in CATEGORIES:\n",
        "    class_num = CATEGORIES.index(category)\n",
        "    path = os.path.join(DATADIR,category)\n",
        "    for img in os.listdir(path):\n",
        "      img_array = imread(os.path.join(path,img))\n",
        "      #print(img_array.shape)\n",
        "      #plt.imshow(img_array)\n",
        "      img_resized = resize(img_array,(150,150,3))\n",
        "      flat_data.append(img_resized.flatten())\n",
        "      target.append(class_num)\n",
        "\n",
        "flat_data = np.array(flat_data)\n",
        "target = np.array(target)\n",
        "images = np.array(images)     \n",
        "\n"
      ],
      "execution_count": null,
      "outputs": []
    },
    {
      "cell_type": "code",
      "metadata": {
        "colab": {
          "base_uri": "https://localhost:8080/"
        },
        "id": "N83Q5HI8LU6g",
        "outputId": "684166b0-42e9-4baa-b3d5-522199b86848"
      },
      "source": [
        "flat_data[0]"
      ],
      "execution_count": null,
      "outputs": [
        {
          "output_type": "execute_result",
          "data": {
            "text/plain": [
              "array([0.12201882, 0.29827451, 0.46713725, ..., 0.09437333, 0.11788235,\n",
              "       0.0829281 ])"
            ]
          },
          "metadata": {
            "tags": []
          },
          "execution_count": 37
        }
      ]
    },
    {
      "cell_type": "code",
      "metadata": {
        "colab": {
          "base_uri": "https://localhost:8080/"
        },
        "id": "P19hLpgEYu6u",
        "outputId": "ca105452-bfbd-4b48-d6d5-57901c1dafc5"
      },
      "source": [
        "target"
      ],
      "execution_count": null,
      "outputs": [
        {
          "output_type": "execute_result",
          "data": {
            "text/plain": [
              "array([0, 0, 0, 0, 0, 0, 0, 0, 0, 0, 0, 0, 0, 0, 0, 0, 0, 0, 0, 0, 0, 0,\n",
              "       0, 0, 0, 0, 0, 0, 0, 0, 0, 0, 0, 0, 0, 0, 0, 0, 0, 0, 0, 0, 0, 0,\n",
              "       0, 0, 0, 0, 0, 0, 1, 1, 1, 1, 1, 1, 1, 1, 1, 1, 1, 1, 1, 1, 1, 1,\n",
              "       1, 1, 1, 1, 1, 1, 1, 1, 1, 1, 1, 1, 1, 1, 1, 1, 1, 1, 1, 1, 1, 1,\n",
              "       1, 1, 1, 1, 1, 1, 1, 1, 1, 1, 1, 1])"
            ]
          },
          "metadata": {
            "tags": []
          },
          "execution_count": 38
        }
      ]
    },
    {
      "cell_type": "code",
      "metadata": {
        "colab": {
          "base_uri": "https://localhost:8080/",
          "height": 283
        },
        "id": "lpMApOMAZEz5",
        "outputId": "d93fa430-ea2a-48a4-e260-651345d0d2bd"
      },
      "source": [
        "unique,count = np.unique(target,return_counts = True)\n",
        "plt.bar(CATEGORIES,count)"
      ],
      "execution_count": null,
      "outputs": [
        {
          "output_type": "execute_result",
          "data": {
            "text/plain": [
              "<BarContainer object of 2 artists>"
            ]
          },
          "metadata": {
            "tags": []
          },
          "execution_count": 39
        },
        {
          "output_type": "display_data",
          "data": {
            "image/png": "[encoded data removed]",
            "text/plain": [
              "<Figure size 432x288 with 1 Axes>"
            ]
          },
          "metadata": {
            "tags": [],
            "needs_background": "light"
          }
        }
      ]
    },
    {
      "cell_type": "code",
      "metadata": {
        "id": "-zXQVm8RZv3y"
      },
      "source": [
        "from sklearn.model_selection import train_test_split\n",
        "x_train,x_test,y_train,y_test = train_test_split(flat_data,target,test_size=0.3,random_state = 109)"
      ],
      "execution_count": null,
      "outputs": []
    },
    {
      "cell_type": "code",
      "metadata": {
        "colab": {
          "base_uri": "https://localhost:8080/"
        },
        "id": "hpSp0Rw4axV3",
        "outputId": "85992077-1b9d-49c5-95c8-1bbe260995e3"
      },
      "source": [
        "from sklearn.model_selection import GridSearchCV\n",
        "from sklearn import svm\n",
        "param_grid = [\n",
        "              {'C':[1,10,100,1000],'kernel':['linear']},\n",
        "              {'C':[1,10,100,1000],'gamma':[0.001,0.0001],'kernel':['rbf']},\n",
        "]\n",
        "svc = svm.SVC(probability = True)\n",
        "clf = GridSearchCV(svc,param_grid)\n",
        "clf.fit(x_train,y_train)\n"
      ],
      "execution_count": null,
      "outputs": [
        {
          "output_type": "execute_result",
          "data": {
            "text/plain": [
              "GridSearchCV(cv=None, error_score=nan,\n",
              "             estimator=SVC(C=1.0, break_ties=False, cache_size=200,\n",
              "                           class_weight=None, coef0=0.0,\n",
              "                           decision_function_shape='ovr', degree=3,\n",
              "                           gamma='scale', kernel='rbf', max_iter=-1,\n",
              "                           probability=True, random_state=None, shrinking=True,\n",
              "                           tol=0.001, verbose=False),\n",
              "             iid='deprecated', n_jobs=None,\n",
              "             param_grid=[{'C': [1, 10, 100, 1000], 'kernel': ['linear']},\n",
              "                         {'C': [1, 10, 100, 1000], 'gamma': [0.001, 0.0001],\n",
              "                          'kernel': ['rbf']}],\n",
              "             pre_dispatch='2*n_jobs', refit=True, return_train_score=False,\n",
              "             scoring=None, verbose=0)"
            ]
          },
          "metadata": {
            "tags": []
          },
          "execution_count": 41
        }
      ]
    },
    {
      "cell_type": "code",
      "metadata": {
        "colab": {
          "base_uri": "https://localhost:8080/"
        },
        "id": "BZFgL0sbdck2",
        "outputId": "da466de8-16ae-4c2e-e8d4-e393c2bc12c3"
      },
      "source": [
        "y_pred = clf.predict(x_test)\n",
        "y_pred"
      ],
      "execution_count": null,
      "outputs": [
        {
          "output_type": "execute_result",
          "data": {
            "text/plain": [
              "array([1, 1, 1, 1, 1, 1, 1, 0, 0, 1, 1, 0, 0, 1, 1, 1, 0, 0, 1, 0, 0, 0,\n",
              "       1, 1, 0, 0, 1, 0, 0, 1])"
            ]
          },
          "metadata": {
            "tags": []
          },
          "execution_count": 42
        }
      ]
    },
    {
      "cell_type": "code",
      "metadata": {
        "colab": {
          "base_uri": "https://localhost:8080/"
        },
        "id": "TnUUZZOte_SL",
        "outputId": "1dee70e6-5677-4641-85c3-363f4554dee2"
      },
      "source": [
        "y_test"
      ],
      "execution_count": null,
      "outputs": [
        {
          "output_type": "execute_result",
          "data": {
            "text/plain": [
              "array([1, 1, 1, 1, 1, 1, 1, 0, 0, 1, 1, 0, 0, 1, 1, 1, 0, 0, 1, 0, 0, 0,\n",
              "       1, 1, 0, 0, 1, 0, 0, 1])"
            ]
          },
          "metadata": {
            "tags": []
          },
          "execution_count": 43
        }
      ]
    },
    {
      "cell_type": "code",
      "metadata": {
        "id": "Rdp7znvcfCL5"
      },
      "source": [
        "from sklearn.metrics import accuracy_score,confusion_matrix"
      ],
      "execution_count": null,
      "outputs": []
    },
    {
      "cell_type": "code",
      "metadata": {
        "colab": {
          "base_uri": "https://localhost:8080/"
        },
        "id": "RiXAkgYnfUHf",
        "outputId": "a457af82-8c5d-4843-fb29-fc2d721685da"
      },
      "source": [
        "accuracy_score(y_pred,y_test)"
      ],
      "execution_count": null,
      "outputs": [
        {
          "output_type": "execute_result",
          "data": {
            "text/plain": [
              "1.0"
            ]
          },
          "metadata": {
            "tags": []
          },
          "execution_count": 45
        }
      ]
    },
    {
      "cell_type": "code",
      "metadata": {
        "colab": {
          "base_uri": "https://localhost:8080/"
        },
        "id": "4kh72fWofbg8",
        "outputId": "4b42006e-c416-4a3a-c984-59d521c2a5dc"
      },
      "source": [
        "confusion_matrix(y_pred,y_test)"
      ],
      "execution_count": null,
      "outputs": [
        {
          "output_type": "execute_result",
          "data": {
            "text/plain": [
              "array([[13,  0],\n",
              "       [ 0, 17]])"
            ]
          },
          "metadata": {
            "tags": []
          },
          "execution_count": 46
        }
      ]
    },
    {
      "cell_type": "code",
      "metadata": {
        "id": "VY_FXdzSfumz"
      },
      "source": [
        "import pickle\n",
        "pickle.dump(clf,open('img_model.p','wb'))"
      ],
      "execution_count": null,
      "outputs": []
    },
    {
      "cell_type": "code",
      "metadata": {
        "id": "WIN2nkKWgZwW"
      },
      "source": [
        "model = pickle.load(open('img_model.p','rb'))"
      ],
      "execution_count": null,
      "outputs": []
    },
    {
      "cell_type": "code",
      "metadata": {
        "colab": {
          "base_uri": "https://localhost:8080/",
          "height": 324
        },
        "id": "Pu_Phj2sg4Aa",
        "outputId": "3f9b2d8d-6eaf-4b3e-d908-b308a4039aca"
      },
      "source": [
        "flat_data = []\n",
        "url = input('Enter your URL')\n",
        "img = imread(url)\n",
        "img_resized = resize(img,(150,150,3))\n",
        "flat_data.append(img_resized.flatten())\n",
        "flat_data = np.array(flat_data)\n",
        "print(img.shape)\n",
        "plt.imshow(img_resized)\n",
        "y_out = model.predict(flat_data)\n",
        "y_out = CATEGORIES[y_out[0]]\n",
        "print(f\" PREDICTED OUTPUT: {y_out}\")                \n"
      ],
      "execution_count": null,
      "outputs": [
        {
          "output_type": "stream",
          "text": [
            "Enter your URLhttps://upload.wikimedia.org/wikipedia/commons/e/eb/Ash_Tree_-_geograph.org.uk_-_590710.jpg\n",
            "(640, 480, 3)\n",
            " PREDICTED OUTPUT: Tree\n"
          ],
          "name": "stdout"
        },
        {
          "output_type": "display_data",
          "data": {
            "image/png": "[encoded data removed]",
            "text/plain": [
              "<Figure size 432x288 with 1 Axes>"
            ]
          },
          "metadata": {
            "tags": [],
            "needs_background": "light"
          }
        }
      ]
    },
    {
      "cell_type": "code",
      "metadata": {
        "id": "my997lSziLZQ",
        "colab": {
          "base_uri": "https://localhost:8080/",
          "height": 1000
        },
        "outputId": "49f45be6-4860-4615-e6df-b6b88d2da4bf"
      },
      "source": [
        "!pip install streamlit\n",
        "!pip install pyngrok\n",
        "from pyngrok import ngrok"
      ],
      "execution_count": null,
      "outputs": [
        {
          "output_type": "stream",
          "text": [
            "Collecting streamlit\n",
            "\u001b[?25l  Downloading https://files.pythonhosted.org/packages/8f/5c/ab7eb2b8577469981707ae2c8e3709c9fe99cca0026cad4bedaa1d980c56/streamlit-0.81.1-py2.py3-none-any.whl (8.2MB)\n",
            "\u001b[K     |████████████████████████████████| 8.2MB 6.2MB/s \n",
            "\u001b[?25hRequirement already satisfied: astor in /usr/local/lib/python3.7/dist-packages (from streamlit) (0.8.1)\n",
            "Requirement already satisfied: packaging in /usr/local/lib/python3.7/dist-packages (from streamlit) (20.9)\n",
            "Requirement already satisfied: requests in /usr/local/lib/python3.7/dist-packages (from streamlit) (2.23.0)\n",
            "Requirement already satisfied: altair>=3.2.0 in /usr/local/lib/python3.7/dist-packages (from streamlit) (4.1.0)\n",
            "Requirement already satisfied: protobuf!=3.11,>=3.6.0 in /usr/local/lib/python3.7/dist-packages (from streamlit) (3.12.4)\n",
            "Collecting base58\n",
            "  Downloading https://files.pythonhosted.org/packages/b8/a1/d9f565e9910c09fd325dc638765e8843a19fa696275c16cc08cf3b0a3c25/base58-2.1.0-py3-none-any.whl\n",
            "Collecting gitpython\n",
            "\u001b[?25l  Downloading https://files.pythonhosted.org/packages/a6/99/98019716955ba243657daedd1de8f3a88ca1f5b75057c38e959db22fb87b/GitPython-3.1.14-py3-none-any.whl (159kB)\n",
            "\u001b[K     |████████████████████████████████| 163kB 43.1MB/s \n",
            "\u001b[?25hCollecting watchdog; platform_system != \"Darwin\"\n",
            "\u001b[?25l  Downloading https://files.pythonhosted.org/packages/c3/d3/3c301365e4ad33a6387fd6524edb563c1a5692715db4f8ce9449613f885e/watchdog-2.1.0-py3-none-manylinux2014_x86_64.whl (74kB)\n",
            "\u001b[K     |████████████████████████████████| 81kB 7.0MB/s \n",
            "\u001b[?25hRequirement already satisfied: tornado>=5.0 in /usr/local/lib/python3.7/dist-packages (from streamlit) (5.1.1)\n",
            "Collecting pydeck>=0.1.dev5\n",
            "\u001b[?25l  Downloading https://files.pythonhosted.org/packages/d6/bc/f0e44828e4290367c869591d50d3671a4d0ee94926da6cb734b7b200308c/pydeck-0.6.2-py2.py3-none-any.whl (4.2MB)\n",
            "\u001b[K     |████████████████████████████████| 4.2MB 49.7MB/s \n",
            "\u001b[?25hRequirement already satisfied: tzlocal in /usr/local/lib/python3.7/dist-packages (from streamlit) (1.5.1)\n",
            "Collecting blinker\n",
            "\u001b[?25l  Downloading https://files.pythonhosted.org/packages/1b/51/e2a9f3b757eb802f61dc1f2b09c8c99f6eb01cf06416c0671253536517b6/blinker-1.4.tar.gz (111kB)\n",
            "\u001b[K     |████████████████████████████████| 112kB 32.5MB/s \n",
            "\u001b[?25hRequirement already satisfied: pillow>=6.2.0 in /usr/local/lib/python3.7/dist-packages (from streamlit) (7.1.2)\n",
            "Requirement already satisfied: pandas>=0.21.0 in /usr/local/lib/python3.7/dist-packages (from streamlit) (1.1.5)\n",
            "Requirement already satisfied: numpy in /usr/local/lib/python3.7/dist-packages (from streamlit) (1.19.5)\n",
            "Requirement already satisfied: python-dateutil in /usr/local/lib/python3.7/dist-packages (from streamlit) (2.8.1)\n",
            "Requirement already satisfied: cachetools>=4.0 in /usr/local/lib/python3.7/dist-packages (from streamlit) (4.2.1)\n",
            "Requirement already satisfied: pyarrow; python_version < \"3.9\" in /usr/local/lib/python3.7/dist-packages (from streamlit) (3.0.0)\n",
            "Requirement already satisfied: click>=7.0 in /usr/local/lib/python3.7/dist-packages (from streamlit) (7.1.2)\n",
            "Collecting validators\n",
            "  Downloading https://files.pythonhosted.org/packages/db/2f/7fed3ee94ad665ad2c1de87f858f10a7785251ff75b4fd47987888d07ef1/validators-0.18.2-py3-none-any.whl\n",
            "Requirement already satisfied: toml in /usr/local/lib/python3.7/dist-packages (from streamlit) (0.10.2)\n",
            "Requirement already satisfied: pyparsing>=2.0.2 in /usr/local/lib/python3.7/dist-packages (from packaging->streamlit) (2.4.7)\n",
            "Requirement already satisfied: urllib3!=1.25.0,!=1.25.1,<1.26,>=1.21.1 in /usr/local/lib/python3.7/dist-packages (from requests->streamlit) (1.24.3)\n",
            "Requirement already satisfied: chardet<4,>=3.0.2 in /usr/local/lib/python3.7/dist-packages (from requests->streamlit) (3.0.4)\n",
            "Requirement already satisfied: idna<3,>=2.5 in /usr/local/lib/python3.7/dist-packages (from requests->streamlit) (2.10)\n",
            "Requirement already satisfied: certifi>=2017.4.17 in /usr/local/lib/python3.7/dist-packages (from requests->streamlit) (2020.12.5)\n",
            "Requirement already satisfied: jsonschema in /usr/local/lib/python3.7/dist-packages (from altair>=3.2.0->streamlit) (2.6.0)\n",
            "Requirement already satisfied: jinja2 in /usr/local/lib/python3.7/dist-packages (from altair>=3.2.0->streamlit) (2.11.3)\n",
            "Requirement already satisfied: toolz in /usr/local/lib/python3.7/dist-packages (from altair>=3.2.0->streamlit) (0.11.1)\n",
            "Requirement already satisfied: entrypoints in /usr/local/lib/python3.7/dist-packages (from altair>=3.2.0->streamlit) (0.3)\n",
            "Requirement already satisfied: six>=1.9 in /usr/local/lib/python3.7/dist-packages (from protobuf!=3.11,>=3.6.0->streamlit) (1.15.0)\n",
            "Requirement already satisfied: setuptools in /usr/local/lib/python3.7/dist-packages (from protobuf!=3.11,>=3.6.0->streamlit) (56.1.0)\n",
            "Collecting gitdb<5,>=4.0.1\n",
            "\u001b[?25l  Downloading https://files.pythonhosted.org/packages/ea/e8/f414d1a4f0bbc668ed441f74f44c116d9816833a48bf81d22b697090dba8/gitdb-4.0.7-py3-none-any.whl (63kB)\n",
            "\u001b[K     |████████████████████████████████| 71kB 4.7MB/s \n",
            "\u001b[?25hRequirement already satisfied: traitlets>=4.3.2 in /usr/local/lib/python3.7/dist-packages (from pydeck>=0.1.dev5->streamlit) (5.0.5)\n",
            "Requirement already satisfied: ipywidgets>=7.0.0 in /usr/local/lib/python3.7/dist-packages (from pydeck>=0.1.dev5->streamlit) (7.6.3)\n",
            "Collecting ipykernel>=5.1.2; python_version >= \"3.4\"\n",
            "\u001b[?25l  Downloading https://files.pythonhosted.org/packages/89/2d/cff3898f2f58f41b1031c9f98501992ae0c8378919213b88884a1db064c2/ipykernel-5.5.4-py3-none-any.whl (120kB)\n",
            "\u001b[K     |████████████████████████████████| 122kB 49.1MB/s \n",
            "\u001b[?25hRequirement already satisfied: pytz in /usr/local/lib/python3.7/dist-packages (from tzlocal->streamlit) (2018.9)\n",
            "Requirement already satisfied: decorator>=3.4.0 in /usr/local/lib/python3.7/dist-packages (from validators->streamlit) (4.4.2)\n",
            "Requirement already satisfied: MarkupSafe>=0.23 in /usr/local/lib/python3.7/dist-packages (from jinja2->altair>=3.2.0->streamlit) (1.1.1)\n",
            "Collecting smmap<5,>=3.0.1\n",
            "  Downloading https://files.pythonhosted.org/packages/68/ee/d540eb5e5996eb81c26ceffac6ee49041d473bc5125f2aa995cf51ec1cf1/smmap-4.0.0-py2.py3-none-any.whl\n",
            "Requirement already satisfied: ipython-genutils in /usr/local/lib/python3.7/dist-packages (from traitlets>=4.3.2->pydeck>=0.1.dev5->streamlit) (0.2.0)\n",
            "Requirement already satisfied: ipython>=4.0.0; python_version >= \"3.3\" in /usr/local/lib/python3.7/dist-packages (from ipywidgets>=7.0.0->pydeck>=0.1.dev5->streamlit) (5.5.0)\n",
            "Requirement already satisfied: nbformat>=4.2.0 in /usr/local/lib/python3.7/dist-packages (from ipywidgets>=7.0.0->pydeck>=0.1.dev5->streamlit) (5.1.3)\n",
            "Requirement already satisfied: jupyterlab-widgets>=1.0.0; python_version >= \"3.6\" in /usr/local/lib/python3.7/dist-packages (from ipywidgets>=7.0.0->pydeck>=0.1.dev5->streamlit) (1.0.0)\n",
            "Requirement already satisfied: widgetsnbextension~=3.5.0 in /usr/local/lib/python3.7/dist-packages (from ipywidgets>=7.0.0->pydeck>=0.1.dev5->streamlit) (3.5.1)\n",
            "Requirement already satisfied: jupyter-client in /usr/local/lib/python3.7/dist-packages (from ipykernel>=5.1.2; python_version >= \"3.4\"->pydeck>=0.1.dev5->streamlit) (5.3.5)\n",
            "Requirement already satisfied: pickleshare in /usr/local/lib/python3.7/dist-packages (from ipython>=4.0.0; python_version >= \"3.3\"->ipywidgets>=7.0.0->pydeck>=0.1.dev5->streamlit) (0.7.5)\n",
            "Requirement already satisfied: pygments in /usr/local/lib/python3.7/dist-packages (from ipython>=4.0.0; python_version >= \"3.3\"->ipywidgets>=7.0.0->pydeck>=0.1.dev5->streamlit) (2.6.1)\n",
            "Requirement already satisfied: prompt-toolkit<2.0.0,>=1.0.4 in /usr/local/lib/python3.7/dist-packages (from ipython>=4.0.0; python_version >= \"3.3\"->ipywidgets>=7.0.0->pydeck>=0.1.dev5->streamlit) (1.0.18)\n",
            "Requirement already satisfied: pexpect; sys_platform != \"win32\" in /usr/local/lib/python3.7/dist-packages (from ipython>=4.0.0; python_version >= \"3.3\"->ipywidgets>=7.0.0->pydeck>=0.1.dev5->streamlit) (4.8.0)\n",
            "Requirement already satisfied: simplegeneric>0.8 in /usr/local/lib/python3.7/dist-packages (from ipython>=4.0.0; python_version >= \"3.3\"->ipywidgets>=7.0.0->pydeck>=0.1.dev5->streamlit) (0.8.1)\n",
            "Requirement already satisfied: jupyter-core in /usr/local/lib/python3.7/dist-packages (from nbformat>=4.2.0->ipywidgets>=7.0.0->pydeck>=0.1.dev5->streamlit) (4.7.1)\n",
            "Requirement already satisfied: notebook>=4.4.1 in /usr/local/lib/python3.7/dist-packages (from widgetsnbextension~=3.5.0->ipywidgets>=7.0.0->pydeck>=0.1.dev5->streamlit) (5.3.1)\n",
            "Requirement already satisfied: pyzmq>=13 in /usr/local/lib/python3.7/dist-packages (from jupyter-client->ipykernel>=5.1.2; python_version >= \"3.4\"->pydeck>=0.1.dev5->streamlit) (22.0.3)\n",
            "Requirement already satisfied: wcwidth in /usr/local/lib/python3.7/dist-packages (from prompt-toolkit<2.0.0,>=1.0.4->ipython>=4.0.0; python_version >= \"3.3\"->ipywidgets>=7.0.0->pydeck>=0.1.dev5->streamlit) (0.2.5)\n",
            "Requirement already satisfied: ptyprocess>=0.5 in /usr/local/lib/python3.7/dist-packages (from pexpect; sys_platform != \"win32\"->ipython>=4.0.0; python_version >= \"3.3\"->ipywidgets>=7.0.0->pydeck>=0.1.dev5->streamlit) (0.7.0)\n",
            "Requirement already satisfied: Send2Trash in /usr/local/lib/python3.7/dist-packages (from notebook>=4.4.1->widgetsnbextension~=3.5.0->ipywidgets>=7.0.0->pydeck>=0.1.dev5->streamlit) (1.5.0)\n",
            "Requirement already satisfied: terminado>=0.8.1 in /usr/local/lib/python3.7/dist-packages (from notebook>=4.4.1->widgetsnbextension~=3.5.0->ipywidgets>=7.0.0->pydeck>=0.1.dev5->streamlit) (0.9.4)\n",
            "Requirement already satisfied: nbconvert in /usr/local/lib/python3.7/dist-packages (from notebook>=4.4.1->widgetsnbextension~=3.5.0->ipywidgets>=7.0.0->pydeck>=0.1.dev5->streamlit) (5.6.1)\n",
            "Requirement already satisfied: bleach in /usr/local/lib/python3.7/dist-packages (from nbconvert->notebook>=4.4.1->widgetsnbextension~=3.5.0->ipywidgets>=7.0.0->pydeck>=0.1.dev5->streamlit) (3.3.0)\n",
            "Requirement already satisfied: pandocfilters>=1.4.1 in /usr/local/lib/python3.7/dist-packages (from nbconvert->notebook>=4.4.1->widgetsnbextension~=3.5.0->ipywidgets>=7.0.0->pydeck>=0.1.dev5->streamlit) (1.4.3)\n",
            "Requirement already satisfied: defusedxml in /usr/local/lib/python3.7/dist-packages (from nbconvert->notebook>=4.4.1->widgetsnbextension~=3.5.0->ipywidgets>=7.0.0->pydeck>=0.1.dev5->streamlit) (0.7.1)\n",
            "Requirement already satisfied: mistune<2,>=0.8.1 in /usr/local/lib/python3.7/dist-packages (from nbconvert->notebook>=4.4.1->widgetsnbextension~=3.5.0->ipywidgets>=7.0.0->pydeck>=0.1.dev5->streamlit) (0.8.4)\n",
            "Requirement already satisfied: testpath in /usr/local/lib/python3.7/dist-packages (from nbconvert->notebook>=4.4.1->widgetsnbextension~=3.5.0->ipywidgets>=7.0.0->pydeck>=0.1.dev5->streamlit) (0.4.4)\n",
            "Requirement already satisfied: webencodings in /usr/local/lib/python3.7/dist-packages (from bleach->nbconvert->notebook>=4.4.1->widgetsnbextension~=3.5.0->ipywidgets>=7.0.0->pydeck>=0.1.dev5->streamlit) (0.5.1)\n",
            "Building wheels for collected packages: blinker\n",
            "  Building wheel for blinker (setup.py) ... \u001b[?25l\u001b[?25hdone\n",
            "  Created wheel for blinker: filename=blinker-1.4-cp37-none-any.whl size=13448 sha256=8faef4778daf99559e902662e6eaf22422c1a910be9de4e86de68a4f697619c2\n",
            "  Stored in directory: /root/.cache/pip/wheels/92/a0/00/8690a57883956a301d91cf4ec999cc0b258b01e3f548f86e89\n",
            "Successfully built blinker\n",
            "\u001b[31mERROR: google-colab 1.0.0 has requirement ipykernel~=4.10, but you'll have ipykernel 5.5.4 which is incompatible.\u001b[0m\n",
            "Installing collected packages: base58, smmap, gitdb, gitpython, watchdog, ipykernel, pydeck, blinker, validators, streamlit\n",
            "  Found existing installation: ipykernel 4.10.1\n",
            "    Uninstalling ipykernel-4.10.1:\n",
            "      Successfully uninstalled ipykernel-4.10.1\n",
            "Successfully installed base58-2.1.0 blinker-1.4 gitdb-4.0.7 gitpython-3.1.14 ipykernel-5.5.4 pydeck-0.6.2 smmap-4.0.0 streamlit-0.81.1 validators-0.18.2 watchdog-2.1.0\n"
          ],
          "name": "stdout"
        },
        {
          "output_type": "display_data",
          "data": {
            "application/vnd.colab-display-data+json": {
              "pip_warning": {
                "packages": [
                  "ipykernel"
                ]
              }
            }
          },
          "metadata": {
            "tags": []
          }
        },
        {
          "output_type": "stream",
          "text": [
            "Collecting pyngrok\n",
            "\u001b[?25l  Downloading https://files.pythonhosted.org/packages/6b/4e/a2fe095bbe17cf26424c4abcd22a0490e22d01cc628f25af5e220ddbf6f0/pyngrok-5.0.5.tar.gz (745kB)\n",
            "\r\u001b[K     |▍                               | 10kB 14.6MB/s eta 0:00:01\r\u001b[K     |▉                               | 20kB 8.9MB/s eta 0:00:01\r\u001b[K     |█▎                              | 30kB 9.6MB/s eta 0:00:01\r\u001b[K     |█▊                              | 40kB 8.7MB/s eta 0:00:01\r\u001b[K     |██▏                             | 51kB 5.3MB/s eta 0:00:01\r\u001b[K     |██▋                             | 61kB 5.5MB/s eta 0:00:01\r\u001b[K     |███                             | 71kB 5.7MB/s eta 0:00:01\r\u001b[K     |███▌                            | 81kB 6.0MB/s eta 0:00:01\r\u001b[K     |████                            | 92kB 6.1MB/s eta 0:00:01\r\u001b[K     |████▍                           | 102kB 5.2MB/s eta 0:00:01\r\u001b[K     |████▉                           | 112kB 5.2MB/s eta 0:00:01\r\u001b[K     |█████▎                          | 122kB 5.2MB/s eta 0:00:01\r\u001b[K     |█████▊                          | 133kB 5.2MB/s eta 0:00:01\r\u001b[K     |██████▏                         | 143kB 5.2MB/s eta 0:00:01\r\u001b[K     |██████▋                         | 153kB 5.2MB/s eta 0:00:01\r\u001b[K     |███████                         | 163kB 5.2MB/s eta 0:00:01\r\u001b[K     |███████▌                        | 174kB 5.2MB/s eta 0:00:01\r\u001b[K     |████████                        | 184kB 5.2MB/s eta 0:00:01\r\u001b[K     |████████▍                       | 194kB 5.2MB/s eta 0:00:01\r\u001b[K     |████████▉                       | 204kB 5.2MB/s eta 0:00:01\r\u001b[K     |█████████▎                      | 215kB 5.2MB/s eta 0:00:01\r\u001b[K     |█████████▊                      | 225kB 5.2MB/s eta 0:00:01\r\u001b[K     |██████████▏                     | 235kB 5.2MB/s eta 0:00:01\r\u001b[K     |██████████▌                     | 245kB 5.2MB/s eta 0:00:01\r\u001b[K     |███████████                     | 256kB 5.2MB/s eta 0:00:01\r\u001b[K     |███████████▍                    | 266kB 5.2MB/s eta 0:00:01\r\u001b[K     |███████████▉                    | 276kB 5.2MB/s eta 0:00:01\r\u001b[K     |████████████▎                   | 286kB 5.2MB/s eta 0:00:01\r\u001b[K     |████████████▊                   | 296kB 5.2MB/s eta 0:00:01\r\u001b[K     |█████████████▏                  | 307kB 5.2MB/s eta 0:00:01\r\u001b[K     |█████████████▋                  | 317kB 5.2MB/s eta 0:00:01\r\u001b[K     |██████████████                  | 327kB 5.2MB/s eta 0:00:01\r\u001b[K     |██████████████▌                 | 337kB 5.2MB/s eta 0:00:01\r\u001b[K     |███████████████                 | 348kB 5.2MB/s eta 0:00:01\r\u001b[K     |███████████████▍                | 358kB 5.2MB/s eta 0:00:01\r\u001b[K     |███████████████▉                | 368kB 5.2MB/s eta 0:00:01\r\u001b[K     |████████████████▎               | 378kB 5.2MB/s eta 0:00:01\r\u001b[K     |████████████████▊               | 389kB 5.2MB/s eta 0:00:01\r\u001b[K     |█████████████████▏              | 399kB 5.2MB/s eta 0:00:01\r\u001b[K     |█████████████████▋              | 409kB 5.2MB/s eta 0:00:01\r\u001b[K     |██████████████████              | 419kB 5.2MB/s eta 0:00:01\r\u001b[K     |██████████████████▌             | 430kB 5.2MB/s eta 0:00:01\r\u001b[K     |███████████████████             | 440kB 5.2MB/s eta 0:00:01\r\u001b[K     |███████████████████▍            | 450kB 5.2MB/s eta 0:00:01\r\u001b[K     |███████████████████▉            | 460kB 5.2MB/s eta 0:00:01\r\u001b[K     |████████████████████▎           | 471kB 5.2MB/s eta 0:00:01\r\u001b[K     |████████████████████▊           | 481kB 5.2MB/s eta 0:00:01\r\u001b[K     |█████████████████████           | 491kB 5.2MB/s eta 0:00:01\r\u001b[K     |█████████████████████▌          | 501kB 5.2MB/s eta 0:00:01\r\u001b[K     |██████████████████████          | 512kB 5.2MB/s eta 0:00:01\r\u001b[K     |██████████████████████▍         | 522kB 5.2MB/s eta 0:00:01\r\u001b[K     |██████████████████████▉         | 532kB 5.2MB/s eta 0:00:01\r\u001b[K     |███████████████████████▎        | 542kB 5.2MB/s eta 0:00:01\r\u001b[K     |███████████████████████▊        | 552kB 5.2MB/s eta 0:00:01\r\u001b[K     |████████████████████████▏       | 563kB 5.2MB/s eta 0:00:01\r\u001b[K     |████████████████████████▋       | 573kB 5.2MB/s eta 0:00:01\r\u001b[K     |█████████████████████████       | 583kB 5.2MB/s eta 0:00:01\r\u001b[K     |█████████████████████████▌      | 593kB 5.2MB/s eta 0:00:01\r\u001b[K     |██████████████████████████      | 604kB 5.2MB/s eta 0:00:01\r\u001b[K     |██████████████████████████▍     | 614kB 5.2MB/s eta 0:00:01\r\u001b[K     |██████████████████████████▉     | 624kB 5.2MB/s eta 0:00:01\r\u001b[K     |███████████████████████████▎    | 634kB 5.2MB/s eta 0:00:01\r\u001b[K     |███████████████████████████▊    | 645kB 5.2MB/s eta 0:00:01\r\u001b[K     |████████████████████████████▏   | 655kB 5.2MB/s eta 0:00:01\r\u001b[K     |████████████████████████████▋   | 665kB 5.2MB/s eta 0:00:01\r\u001b[K     |█████████████████████████████   | 675kB 5.2MB/s eta 0:00:01\r\u001b[K     |█████████████████████████████▌  | 686kB 5.2MB/s eta 0:00:01\r\u001b[K     |██████████████████████████████  | 696kB 5.2MB/s eta 0:00:01\r\u001b[K     |██████████████████████████████▍ | 706kB 5.2MB/s eta 0:00:01\r\u001b[K     |██████████████████████████████▉ | 716kB 5.2MB/s eta 0:00:01\r\u001b[K     |███████████████████████████████▏| 727kB 5.2MB/s eta 0:00:01\r\u001b[K     |███████████████████████████████▋| 737kB 5.2MB/s eta 0:00:01\r\u001b[K     |████████████████████████████████| 747kB 5.2MB/s \n",
            "\u001b[?25hRequirement already satisfied: PyYAML in /usr/local/lib/python3.7/dist-packages (from pyngrok) (3.13)\n",
            "Building wheels for collected packages: pyngrok\n",
            "  Building wheel for pyngrok (setup.py) ... \u001b[?25l\u001b[?25hdone\n",
            "  Created wheel for pyngrok: filename=pyngrok-5.0.5-cp37-none-any.whl size=19246 sha256=eb3437abeb781e2498db7f875c8cb3b62c6fa683fb428963301879a2fb178cac\n",
            "  Stored in directory: /root/.cache/pip/wheels/0c/13/64/5ebbcc22eaf53fdf5766b397c1fb17c83f5775fdccf0ea1b88\n",
            "Successfully built pyngrok\n",
            "Installing collected packages: pyngrok\n",
            "Successfully installed pyngrok-5.0.5\n"
          ],
          "name": "stdout"
        }
      ]
    },
    {
      "cell_type": "code",
      "metadata": {
        "id": "NGKX-t6OvDFc"
      },
      "source": [
        ""
      ],
      "execution_count": null,
      "outputs": []
    }
  ]
}